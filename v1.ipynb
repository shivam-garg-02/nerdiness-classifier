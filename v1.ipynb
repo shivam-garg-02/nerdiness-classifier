{
 "cells": [
  {
   "cell_type": "code",
   "execution_count": 51,
   "metadata": {},
   "outputs": [],
   "source": [
    "import numpy as np\n",
    "import pandas as pd\n",
    "import matplotlib.pyplot as plt\n",
    "import sklearn\n",
    "from sklearn.model_selection import train_test_split\n",
    "from sklearn.metrics import roc_auc_score\n",
    "from sklearn.linear_model import LogisticRegression\n",
    "from sklearn.linear_model import LinearRegression\n",
    "from sklearn.preprocessing import StandardScaler\n",
    "from sklearn.model_selection import cross_val_score\n",
    "from sklearn.model_selection import cross_validate\n",
    "from sklearn.model_selection import RepeatedKFold\n",
    "from sklearn.model_selection import GridSearchCV\n",
    "from sklearn.model_selection import StratifiedKFold\n",
    "from sklearn.metrics import make_scorer\n",
    "from sklearn import svm\n",
    "from sklearn import tree\n",
    "from catboost import CatBoostRegressor\n",
    "import seaborn as sns\n",
    "from sklearn.naive_bayes import GaussianNB \n",
    "from sklearn.ensemble import RandomForestClassifier\n",
    "from sklearn.pipeline import Pipeline\n",
    "from xgboost import XGBRegressor\n",
    "from xgboost import XGBClassifier\n",
    "from sklearn.preprocessing import LabelEncoder\n",
    "from sklearn.preprocessing import MinMaxScaler\n",
    "import pickle\n",
    "from keras.preprocessing.text import Tokenizer\n",
    "from keras.models import Sequential, Model\n",
    "from keras.layers import Activation, Dense, Dropout\n",
    "from sklearn.preprocessing import LabelBinarizer\n",
    "import sklearn.datasets as skds\n",
    "from pathlib import Path\n",
    "import itertools\n",
    "from sklearn.metrics import confusion_matrix\n",
    "from sklearn.metrics import mean_squared_error as rmse\n",
    "import warnings\n",
    "warnings.filterwarnings(\"ignore\")\n",
    "%matplotlib inline\n",
    "from joblib import dump, load\n",
    "from xgboost import plot_importance\n",
    "from lightgbm import LGBMRegressor"
   ]
  },
  {
   "cell_type": "code",
   "execution_count": 83,
   "metadata": {},
   "outputs": [],
   "source": [
    "train = pd.read_csv('pps_train.csv', index_col = \"id\")\n",
    "test = pd.read_csv('pps_test.csv', index_col = \"id\")\n",
    "submission = pd.read_csv('sample_submission.csv', index_col = \"id\")"
   ]
  },
  {
   "cell_type": "code",
   "execution_count": 90,
   "metadata": {},
   "outputs": [
    {
     "data": {
      "text/plain": [
       "'nerdy'"
      ]
     },
     "execution_count": 90,
     "metadata": {},
     "output_type": "execute_result"
    }
   ],
   "source": [
    "cols= train.columns\n",
    "cols = list(cols)\n",
    "cols.pop()"
   ]
  },
  {
   "cell_type": "code",
   "execution_count": 173,
   "metadata": {},
   "outputs": [],
   "source": [
    "scaler = StandardScaler()\n",
    "train_scaled = scaler.fit_transform(train[cols])\n",
    "test_scaled = scaler.transform(test)"
   ]
  },
  {
   "cell_type": "code",
   "execution_count": 174,
   "metadata": {},
   "outputs": [],
   "source": [
    "train_scaled = pd.DataFrame(data = train_scaled, index = train.index, columns = cols)\n",
    "test_scaled = pd.DataFrame(data = test_scaled, index = test.index, columns = cols)"
   ]
  },
  {
   "cell_type": "code",
   "execution_count": 175,
   "metadata": {},
   "outputs": [],
   "source": [
    "train_scaled['nerdy'] = train['nerdy']"
   ]
  },
  {
   "cell_type": "code",
   "execution_count": 176,
   "metadata": {},
   "outputs": [],
   "source": [
    "def Stacker(model, model_name, train_data, test_data, fold):\n",
    "    test_preds = np.zeros(test_data.shape[0])\n",
    "    train_preds = np.zeros(train_data.shape[0])\n",
    "    \n",
    "    kf = StratifiedKFold(n_splits=fold,random_state=48,shuffle=True)\n",
    "    rmse_list=[]\n",
    "    n=0\n",
    "    \n",
    "    for train_index, test_index in kf.split(train_data[cols],train_data['nerdy']):\n",
    "        \n",
    "        X_train, X_valid = train_data[cols].iloc[train_index], train_data[cols].iloc[test_index]\n",
    "        y_train, y_valid = train_data['nerdy'].iloc[train_index], train_data['nerdy'].iloc[test_index]\n",
    "        \n",
    "        if model_name == 'catb':\n",
    "            model.fit(X_train, y_train, eval_set=[(X_valid, y_valid)], silent=True)\n",
    "        elif model_name == 'xgb' or model_name == 'lgbm':\n",
    "            model.fit(X_train, y_train, eval_set=[(X_valid,y_valid)], early_stopping_rounds=100, eval_metric=\"rmse\", verbose=False)\n",
    "        else:\n",
    "            model.fit(X_train, y_train)\n",
    "    \n",
    "        test_preds += model.predict(test_data[cols])/kf.n_splits\n",
    "        train_preds += model.predict(train_data[cols])/kf.n_splits\n",
    "        \n",
    "        rmse_list.append(np.sqrt(rmse(y_valid, model.predict(X_valid))))\n",
    "        \n",
    "        print(f\"fold: {n+1}, rmse: {rmse_list[n]}\")\n",
    "        n+=1  \n",
    "    return train_preds, test_preds"
   ]
  },
  {
   "cell_type": "code",
   "execution_count": 113,
   "metadata": {},
   "outputs": [
    {
     "name": "stdout",
     "output_type": "stream",
     "text": [
      "fold: 1, rmse: 1.3018837748632561\n",
      "fold: 2, rmse: 1.284105092123815\n",
      "fold: 3, rmse: 1.3072366097767893\n",
      "fold: 4, rmse: 1.3084202778998446\n",
      "fold: 5, rmse: 1.306513859004915\n"
     ]
    },
    {
     "data": {
      "text/plain": [
       "(array([6.15227345, 4.42164907, 6.12780567, ..., 4.85016154, 5.31437448,\n",
       "        6.09039454]),\n",
       " array([5.76254333, 5.59257076, 4.57904162, ..., 5.35403039, 5.2579529 ,\n",
       "        5.92994686]))"
      ]
     },
     "execution_count": 113,
     "metadata": {},
     "output_type": "execute_result"
    }
   ],
   "source": [
    "lr = LinearRegression()\n",
    "Stacker(lr, 'lr', train_scaled, test_scaled, 5)"
   ]
  },
  {
   "cell_type": "code",
   "execution_count": 114,
   "metadata": {},
   "outputs": [
    {
     "name": "stdout",
     "output_type": "stream",
     "text": [
      "fold: 1, rmse: 1.3029695640010048\n",
      "fold: 2, rmse: 1.300390362122223\n",
      "fold: 3, rmse: 1.3150008889702351\n",
      "fold: 4, rmse: 1.3106720647572592\n",
      "fold: 5, rmse: 1.309579875972343\n"
     ]
    },
    {
     "data": {
      "text/plain": [
       "(array([6.25922791, 4.63581668, 5.93756967, ..., 4.76417613, 5.84598915,\n",
       "        6.65043437]),\n",
       " array([5.75991553, 5.57372015, 4.34303516, ..., 5.38504888, 5.44412303,\n",
       "        5.85185913]))"
      ]
     },
     "execution_count": 114,
     "metadata": {},
     "output_type": "execute_result"
    }
   ],
   "source": [
    "svmac = svm.SVR()\n",
    "Stacker(svmac, 'svr', train_scaled, test_scaled, 5)"
   ]
  },
  {
   "cell_type": "code",
   "execution_count": 177,
   "metadata": {},
   "outputs": [
    {
     "name": "stdout",
     "output_type": "stream",
     "text": [
      "fold: 1, rmse: 1.2569461579048724\n",
      "fold: 2, rmse: 1.267727734462092\n",
      "fold: 3, rmse: 1.2938154659816132\n",
      "fold: 4, rmse: 1.2884147588719435\n",
      "fold: 5, rmse: 1.292330815189734\n"
     ]
    },
    {
     "data": {
      "text/plain": [
       "(array([5.912, 4.158, 3.02 , ..., 4.488, 5.888, 6.596]),\n",
       " array([5.798, 5.392, 4.65 , ..., 5.31 , 5.164, 5.888]))"
      ]
     },
     "execution_count": 177,
     "metadata": {},
     "output_type": "execute_result"
    }
   ],
   "source": [
    "from sklearn.ensemble import RandomForestRegressor\n",
    "forest = RandomForestRegressor()\n",
    "Stacker(forest, 'forest', train_scaled, test_scaled, 5)"
   ]
  },
  {
   "cell_type": "code",
   "execution_count": 115,
   "metadata": {},
   "outputs": [],
   "source": [
    "lgbm = LGBMRegressor()\n",
    "xgb = XGBRegressor(n_estimators=1000)\n",
    "catb = CatBoostRegressor(use_best_model=True, iterations=1000, eval_metric='RMSE')"
   ]
  },
  {
   "cell_type": "code",
   "execution_count": 119,
   "metadata": {},
   "outputs": [
    {
     "name": "stdout",
     "output_type": "stream",
     "text": [
      "fold: 1, rmse: 1.2427107945436195\n",
      "fold: 2, rmse: 1.2264432388846178\n",
      "fold: 3, rmse: 1.2604149109553822\n",
      "fold: 4, rmse: 1.2577584863031788\n",
      "fold: 5, rmse: 1.2528735157788808\n"
     ]
    }
   ],
   "source": [
    "lgbm_train, lgbm_test = Stacker(lgbm, 'lgbm', train_scaled, test_scaled, 5)"
   ]
  },
  {
   "cell_type": "code",
   "execution_count": 120,
   "metadata": {},
   "outputs": [
    {
     "name": "stdout",
     "output_type": "stream",
     "text": [
      "fold: 1, rmse: 1.2588081855399502\n",
      "fold: 2, rmse: 1.2882251264534668\n",
      "fold: 3, rmse: 1.293303372029544\n",
      "fold: 4, rmse: 1.286039226718986\n",
      "fold: 5, rmse: 1.2721870313357795\n"
     ]
    }
   ],
   "source": [
    "xgb_train, xgb_test = Stacker(xgb, 'xgb', train_scaled, test_scaled, 5)"
   ]
  },
  {
   "cell_type": "code",
   "execution_count": 181,
   "metadata": {},
   "outputs": [
    {
     "name": "stdout",
     "output_type": "stream",
     "text": [
      "fold: 1, rmse: 1.2068344893971403\n",
      "fold: 2, rmse: 1.232435382755793\n",
      "fold: 3, rmse: 1.1656800806968797\n",
      "fold: 4, rmse: 1.2622034371765485\n",
      "fold: 5, rmse: 1.226614320793999\n",
      "fold: 6, rmse: 1.2395603508758437\n",
      "fold: 7, rmse: 1.1621325109593574\n",
      "fold: 8, rmse: 1.23624437325724\n",
      "fold: 9, rmse: 1.2776889378913365\n",
      "fold: 10, rmse: 1.2268162478648206\n",
      "fold: 11, rmse: 1.187906229958538\n",
      "fold: 12, rmse: 1.29459231648044\n",
      "fold: 13, rmse: 1.2543717480890513\n",
      "fold: 14, rmse: 1.2124717810801233\n",
      "fold: 15, rmse: 1.2041710863460697\n",
      "fold: 16, rmse: 1.2594987618235332\n",
      "fold: 17, rmse: 1.2324887458197482\n",
      "fold: 18, rmse: 1.2457912979516699\n",
      "fold: 19, rmse: 1.2484887462401615\n",
      "fold: 20, rmse: 1.2067156576497486\n"
     ]
    }
   ],
   "source": [
    "catb_train, catb_test = Stacker(catb, 'catb', train_scaled, test_scaled, 20)"
   ]
  },
  {
   "cell_type": "code",
   "execution_count": 179,
   "metadata": {},
   "outputs": [],
   "source": [
    "# submission['nerdy'] = catb_test\n",
    "# submission.to_csv('submission.csv')"
   ]
  },
  {
   "cell_type": "code",
   "execution_count": 122,
   "metadata": {},
   "outputs": [],
   "source": [
    "stack_train = np.concatenate((catb_train.reshape(-1,1), lgbm_train.reshape(-1,1), xgb_train.reshape(-1,1)), axis = 1)\n",
    "stack_test = np.concatenate((catb_test.reshape(-1,1), lgbm_test.reshape(-1,1), xgb_test.reshape(-1,1)), axis = 1)\n",
    "\n",
    "stack_train = pd.DataFrame(stack_train, columns = ['catb', 'lgbm', 'xgb'])\n",
    "stack_test = pd.DataFrame(stack_test, columns = ['catb', 'lgbm', 'xgb'])"
   ]
  },
  {
   "cell_type": "code",
   "execution_count": 134,
   "metadata": {},
   "outputs": [
    {
     "name": "stdout",
     "output_type": "stream",
     "text": [
      "fold: 1, rmse: 1.0098029569348246\n",
      "fold: 2, rmse: 1.0143327101418296\n",
      "fold: 3, rmse: 0.9849075171583546\n",
      "fold: 4, rmse: 0.9647737253988553\n",
      "fold: 5, rmse: 0.9848239380051178\n"
     ]
    }
   ],
   "source": [
    "y = train['nerdy'].copy()\n",
    "\n",
    "lr = LinearRegression()\n",
    "\n",
    "train_preds = np.zeros(stack_train.shape[0])\n",
    "test_preds = np.zeros(stack_test.shape[0])\n",
    "\n",
    "kf = StratifiedKFold(n_splits=5, random_state=2021, shuffle=True)\n",
    "rmse_list=[]\n",
    "\n",
    "n=0\n",
    "for train_index, test_index in kf.split(stack_train, y):\n",
    "    \n",
    "    X_train, X_valid = stack_train.iloc[train_index], stack_train.iloc[test_index]\n",
    "    y_train, y_valid = y.iloc[train_index], y.iloc[test_index]\n",
    "    \n",
    "    lr.fit(X_train, y_train)\n",
    "    \n",
    "    train_preds += lr.predict(stack_train)/kf.n_splits\n",
    "    test_preds += lr.predict(stack_test)/kf.n_splits\n",
    "    \n",
    "    rmse_list.append(np.sqrt(rmse(y_valid, lr.predict(X_valid))))\n",
    "    \n",
    "    print(f\"fold: {n+1}, rmse: {rmse_list[n]}\")\n",
    "    n+=1"
   ]
  },
  {
   "cell_type": "code",
   "execution_count": 135,
   "metadata": {},
   "outputs": [
    {
     "data": {
      "text/plain": [
       "array([6.30247207, 6.08720675, 4.30350681, ..., 5.48875416, 4.93500003,\n",
       "       5.94965323])"
      ]
     },
     "execution_count": 135,
     "metadata": {},
     "output_type": "execute_result"
    }
   ],
   "source": [
    "test_preds"
   ]
  },
  {
   "cell_type": "code",
   "execution_count": 136,
   "metadata": {},
   "outputs": [],
   "source": [
    "# submission['nerdy'] = test_preds\n",
    "# submission.to_csv('submission.csv')"
   ]
  },
  {
   "cell_type": "code",
   "execution_count": 137,
   "metadata": {},
   "outputs": [
    {
     "name": "stdout",
     "output_type": "stream",
     "text": [
      "fold: 1, rmse: 1.0097389917874144\n",
      "fold: 2, rmse: 1.0200192349962671\n",
      "fold: 3, rmse: 0.9889883631587247\n",
      "fold: 4, rmse: 0.9554802758310246\n",
      "fold: 5, rmse: 0.9738784245319945\n"
     ]
    }
   ],
   "source": [
    "y = train['nerdy'].copy()\n",
    "\n",
    "svmac = svm.SVR()\n",
    "\n",
    "train_preds = np.zeros(stack_train.shape[0])\n",
    "test_preds = np.zeros(stack_test.shape[0])\n",
    "\n",
    "kf = StratifiedKFold(n_splits=5, random_state=2021, shuffle=True)\n",
    "rmse_list=[]\n",
    "\n",
    "n=0\n",
    "for train_index, test_index in kf.split(stack_train, y):\n",
    "    \n",
    "    X_train, X_valid = stack_train.iloc[train_index], stack_train.iloc[test_index]\n",
    "    y_train, y_valid = y.iloc[train_index], y.iloc[test_index]\n",
    "    \n",
    "    svmac.fit(X_train, y_train)\n",
    "    \n",
    "    train_preds += svmac.predict(stack_train)/kf.n_splits\n",
    "    test_preds += svmac.predict(stack_test)/kf.n_splits\n",
    "    \n",
    "    rmse_list.append(np.sqrt(rmse(y_valid, svmac.predict(X_valid))))\n",
    "    \n",
    "    print(f\"fold: {n+1}, rmse: {rmse_list[n]}\")\n",
    "    n+=1"
   ]
  },
  {
   "cell_type": "code",
   "execution_count": 138,
   "metadata": {},
   "outputs": [
    {
     "data": {
      "text/plain": [
       "array([6.49037807, 6.34582771, 4.57864252, ..., 5.61893355, 5.07344166,\n",
       "       6.0425359 ])"
      ]
     },
     "execution_count": 138,
     "metadata": {},
     "output_type": "execute_result"
    }
   ],
   "source": [
    "test_preds"
   ]
  },
  {
   "cell_type": "code",
   "execution_count": 143,
   "metadata": {},
   "outputs": [
    {
     "name": "stdout",
     "output_type": "stream",
     "text": [
      "fold: 1, rmse: 1.009155937277\n",
      "fold: 2, rmse: 1.0052914237469608\n",
      "fold: 3, rmse: 0.9733946263685406\n",
      "fold: 4, rmse: 0.9497671451618258\n",
      "fold: 5, rmse: 0.9611712402101159\n"
     ]
    }
   ],
   "source": [
    "y = train['nerdy'].copy()\n",
    "\n",
    "catb = CatBoostRegressor(use_best_model=True, iterations=1000, eval_metric='RMSE')\n",
    "\n",
    "train_preds = np.zeros(stack_train.shape[0])\n",
    "test_preds = np.zeros(stack_test.shape[0])\n",
    "\n",
    "kf = StratifiedKFold(n_splits=5, random_state=2021, shuffle=True)\n",
    "rmse_list=[]\n",
    "\n",
    "n=0\n",
    "for train_index, test_index in kf.split(stack_train, y):\n",
    "    \n",
    "    X_train, X_valid = stack_train.iloc[train_index], stack_train.iloc[test_index]\n",
    "    y_train, y_valid = y.iloc[train_index], y.iloc[test_index]\n",
    "    \n",
    "    catb.fit(X_train, y_train, eval_set=[(X_valid, y_valid)], silent=True)\n",
    "    \n",
    "    train_preds += catb.predict(stack_train)/kf.n_splits\n",
    "    test_preds += catb.predict(stack_test)/kf.n_splits\n",
    "    \n",
    "    rmse_list.append(np.sqrt(rmse(y_valid, catb.predict(X_valid))))\n",
    "    \n",
    "    print(f\"fold: {n+1}, rmse: {rmse_list[n]}\")\n",
    "    n+=1"
   ]
  },
  {
   "cell_type": "code",
   "execution_count": 144,
   "metadata": {},
   "outputs": [
    {
     "data": {
      "text/plain": [
       "array([6.28694998, 6.19147039, 4.55147074, ..., 5.55276469, 5.05076076,\n",
       "       5.98456787])"
      ]
     },
     "execution_count": 144,
     "metadata": {},
     "output_type": "execute_result"
    }
   ],
   "source": [
    "test_preds"
   ]
  },
  {
   "cell_type": "code",
   "execution_count": 145,
   "metadata": {},
   "outputs": [],
   "source": [
    "submission['nerdy'] = test_preds\n",
    "submission.to_csv('submission.csv')"
   ]
  },
  {
   "cell_type": "code",
   "execution_count": 141,
   "metadata": {},
   "outputs": [
    {
     "name": "stdout",
     "output_type": "stream",
     "text": [
      "fold: 1, rmse: 1.0077732585964805\n",
      "fold: 2, rmse: 1.0072397668186348\n",
      "fold: 3, rmse: 0.977059916344051\n",
      "fold: 4, rmse: 0.9562801016574247\n",
      "fold: 5, rmse: 0.9761586715295005\n"
     ]
    }
   ],
   "source": [
    "y = train['nerdy'].copy()\n",
    "\n",
    "lgbm = LGBMRegressor()\n",
    "\n",
    "train_preds = np.zeros(stack_train.shape[0])\n",
    "test_preds = np.zeros(stack_test.shape[0])\n",
    "\n",
    "kf = StratifiedKFold(n_splits=5, random_state=2021, shuffle=True)\n",
    "rmse_list=[]\n",
    "\n",
    "n=0\n",
    "for train_index, test_index in kf.split(stack_train, y):\n",
    "    \n",
    "    X_train, X_valid = stack_train.iloc[train_index], stack_train.iloc[test_index]\n",
    "    y_train, y_valid = y.iloc[train_index], y.iloc[test_index]\n",
    "    \n",
    "    lgbm.fit(X_train, y_train, eval_set=[(X_valid,y_valid)], early_stopping_rounds=100, eval_metric=\"rmse\", verbose=False)\n",
    "    \n",
    "    train_preds += lgbm.predict(stack_train)/kf.n_splits\n",
    "    test_preds += lgbm.predict(stack_test)/kf.n_splits\n",
    "    \n",
    "    rmse_list.append(np.sqrt(rmse(y_valid, lgbm.predict(X_valid))))\n",
    "    \n",
    "    print(f\"fold: {n+1}, rmse: {rmse_list[n]}\")\n",
    "    n+=1"
   ]
  },
  {
   "cell_type": "code",
   "execution_count": 142,
   "metadata": {},
   "outputs": [
    {
     "data": {
      "text/plain": [
       "array([6.27760254, 6.21761237, 4.62057775, ..., 5.6018471 , 5.0140371 ,\n",
       "       5.94141759])"
      ]
     },
     "execution_count": 142,
     "metadata": {},
     "output_type": "execute_result"
    }
   ],
   "source": [
    "test_preds"
   ]
  },
  {
   "cell_type": "code",
   "execution_count": 202,
   "metadata": {},
   "outputs": [],
   "source": [
    "stack_train.index = train_scaled.index\n",
    "stack_test.index = test_scaled.index"
   ]
  },
  {
   "cell_type": "code",
   "execution_count": 203,
   "metadata": {},
   "outputs": [],
   "source": [
    "new_train = pd.concat([train_scaled, stack_train], axis=1, join='inner')\n",
    "new_test = pd.concat([test_scaled, stack_test], axis=1, join='inner')"
   ]
  },
  {
   "cell_type": "code",
   "execution_count": 204,
   "metadata": {},
   "outputs": [],
   "source": [
    "new_train.drop(['nerdy'], axis=1, inplace=True)"
   ]
  },
  {
   "cell_type": "code",
   "execution_count": 206,
   "metadata": {},
   "outputs": [
    {
     "name": "stdout",
     "output_type": "stream",
     "text": [
      "fold: 1, rmse: 0.9521940156036769\n",
      "fold: 2, rmse: 0.9466811203697204\n",
      "fold: 3, rmse: 0.9339957660526332\n",
      "fold: 4, rmse: 0.9023046052315414\n",
      "fold: 5, rmse: 0.9267638151297408\n"
     ]
    }
   ],
   "source": [
    "y = train['nerdy'].copy()\n",
    "\n",
    "lr = LinearRegression()\n",
    "\n",
    "train_preds = np.zeros(new_train.shape[0])\n",
    "test_preds = np.zeros(new_test.shape[0])\n",
    "\n",
    "kf = StratifiedKFold(n_splits=5, random_state=2021, shuffle=True)\n",
    "rmse_list=[]\n",
    "\n",
    "n=0\n",
    "for train_index, test_index in kf.split(new_train, y):\n",
    "    \n",
    "    X_train, X_valid = new_train.iloc[train_index], new_train.iloc[test_index]\n",
    "    y_train, y_valid = y.iloc[train_index], y.iloc[test_index]\n",
    "    \n",
    "    lr.fit(X_train, y_train)\n",
    "    \n",
    "    train_preds += lr.predict(new_train)/kf.n_splits\n",
    "    test_preds += lr.predict(new_test)/kf.n_splits\n",
    "    \n",
    "    rmse_list.append(np.sqrt(rmse(y_valid, lr.predict(X_valid))))\n",
    "    \n",
    "    print(f\"fold: {n+1}, rmse: {rmse_list[n]}\")\n",
    "    n+=1"
   ]
  },
  {
   "cell_type": "code",
   "execution_count": 207,
   "metadata": {},
   "outputs": [
    {
     "data": {
      "text/plain": [
       "array([6.42329287, 6.07231259, 4.40870223, ..., 5.44871533, 4.87007096,\n",
       "       5.84057951])"
      ]
     },
     "execution_count": 207,
     "metadata": {},
     "output_type": "execute_result"
    }
   ],
   "source": [
    "test_preds"
   ]
  },
  {
   "cell_type": "code",
   "execution_count": 208,
   "metadata": {},
   "outputs": [],
   "source": [
    "# submission['nerdy'] = test_preds\n",
    "# submission.to_csv('submission.csv')"
   ]
  },
  {
   "cell_type": "code",
   "execution_count": 211,
   "metadata": {},
   "outputs": [
    {
     "name": "stdout",
     "output_type": "stream",
     "text": [
      "fold: 1, rmse: 0.8765348050730081\n",
      "fold: 2, rmse: 0.86700348838446\n",
      "fold: 3, rmse: 0.8541197211382017\n",
      "fold: 4, rmse: 0.831473838194112\n",
      "fold: 5, rmse: 0.8354976885205355\n"
     ]
    }
   ],
   "source": [
    "y = train['nerdy'].copy()\n",
    "\n",
    "catb = CatBoostRegressor(use_best_model=True, iterations=1000, eval_metric='RMSE')\n",
    "\n",
    "train_preds = np.zeros(new_train.shape[0])\n",
    "test_preds = np.zeros(new_test.shape[0])\n",
    "\n",
    "kf = StratifiedKFold(n_splits=5, random_state=2021, shuffle=True)\n",
    "rmse_list=[]\n",
    "\n",
    "n=0\n",
    "for train_index, test_index in kf.split(new_train, y):\n",
    "    \n",
    "    X_train, X_valid = new_train.iloc[train_index], new_train.iloc[test_index]\n",
    "    y_train, y_valid = y.iloc[train_index], y.iloc[test_index]\n",
    "    \n",
    "    catb.fit(X_train, y_train, eval_set=[(X_valid, y_valid)], silent=True)\n",
    "    \n",
    "    train_preds += catb.predict(new_train)/kf.n_splits\n",
    "    test_preds += catb.predict(new_test)/kf.n_splits\n",
    "    \n",
    "    rmse_list.append(np.sqrt(rmse(y_valid, catb.predict(X_valid))))\n",
    "    \n",
    "    print(f\"fold: {n+1}, rmse: {rmse_list[n]}\")\n",
    "    n+=1"
   ]
  },
  {
   "cell_type": "code",
   "execution_count": 210,
   "metadata": {},
   "outputs": [],
   "source": [
    "# submission['nerdy'] = test_preds\n",
    "# submission.to_csv('submission.csv')"
   ]
  },
  {
   "cell_type": "code",
   "execution_count": 212,
   "metadata": {},
   "outputs": [
    {
     "name": "stdout",
     "output_type": "stream",
     "text": [
      "fold: 1, rmse: 0.9117096177445297\n",
      "fold: 2, rmse: 0.9046491279171053\n",
      "fold: 3, rmse: 0.9094484575488158\n",
      "fold: 4, rmse: 0.8851907369119049\n",
      "fold: 5, rmse: 0.8737084321311355\n"
     ]
    }
   ],
   "source": [
    "y = train['nerdy'].copy()\n",
    "\n",
    "svmac = svm.SVR()\n",
    "\n",
    "train_preds = np.zeros(new_train.shape[0])\n",
    "test_preds = np.zeros(new_test.shape[0])\n",
    "\n",
    "kf = StratifiedKFold(n_splits=5, random_state=2021, shuffle=True)\n",
    "rmse_list=[]\n",
    "\n",
    "n=0\n",
    "for train_index, test_index in kf.split(new_train, y):\n",
    "    \n",
    "    X_train, X_valid = new_train.iloc[train_index], new_train.iloc[test_index]\n",
    "    y_train, y_valid = y.iloc[train_index], y.iloc[test_index]\n",
    "    \n",
    "    svmac.fit(X_train, y_train)\n",
    "    \n",
    "    train_preds += svmac.predict(new_train)/kf.n_splits\n",
    "    test_preds += svmac.predict(new_test)/kf.n_splits\n",
    "    \n",
    "    rmse_list.append(np.sqrt(rmse(y_valid, svmac.predict(X_valid))))\n",
    "    \n",
    "    print(f\"fold: {n+1}, rmse: {rmse_list[n]}\")\n",
    "    n+=1"
   ]
  },
  {
   "cell_type": "code",
   "execution_count": 213,
   "metadata": {},
   "outputs": [],
   "source": [
    "submission['nerdy'] = test_preds\n",
    "submission.to_csv('submission.csv')"
   ]
  },
  {
   "cell_type": "code",
   "execution_count": null,
   "metadata": {},
   "outputs": [],
   "source": []
  }
 ],
 "metadata": {
  "kernelspec": {
   "display_name": "Python 3",
   "language": "python",
   "name": "python3"
  },
  "language_info": {
   "codemirror_mode": {
    "name": "ipython",
    "version": 3
   },
   "file_extension": ".py",
   "mimetype": "text/x-python",
   "name": "python",
   "nbconvert_exporter": "python",
   "pygments_lexer": "ipython3",
   "version": "3.8.5"
  }
 },
 "nbformat": 4,
 "nbformat_minor": 4
}
