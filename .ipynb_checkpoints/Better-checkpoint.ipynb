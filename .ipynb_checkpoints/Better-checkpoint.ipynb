{
 "cells": [
  {
   "cell_type": "code",
   "execution_count": 4,
   "metadata": {},
   "outputs": [],
   "source": [
    "import numpy as np\n",
    "import pandas as pd\n",
    "import matplotlib.pyplot as plt\n",
    "import sklearn\n",
    "from sklearn.model_selection import train_test_split\n",
    "from sklearn.metrics import roc_auc_score\n",
    "from sklearn.linear_model import LogisticRegression\n",
    "from sklearn.linear_model import LinearRegression\n",
    "from sklearn.preprocessing import StandardScaler\n",
    "from sklearn import svm\n",
    "from sklearn import tree\n",
    "import seaborn as sns\n",
    "from sklearn.naive_bayes import GaussianNB \n",
    "from sklearn.ensemble import RandomForestClassifier\n",
    "from sklearn.pipeline import Pipeline\n",
    "from xgboost import XGBRegressor\n",
    "from xgboost import plot_importance\n",
    "from sklearn.ensemble import RandomForestRegressor\n",
    "from sklearn.neighbors import KNeighborsRegressor\n",
    "from xgboost import XGBClassifier\n",
    "from sklearn.preprocessing import LabelEncoder\n",
    "from sklearn.preprocessing import MinMaxScaler\n",
    "import pickle\n",
    "from tensorflow.keras.preprocessing.text import Tokenizer\n",
    "from tensorflow.keras.models import Sequential, Model\n",
    "from tensorflow.keras.layers import Activation, Dense, Dropout\n",
    "from sklearn.preprocessing import LabelBinarizer\n",
    "import sklearn.datasets as skds\n",
    "from pathlib import Path\n",
    "import itertools\n",
    "from sklearn.metrics import confusion_matrix\n",
    "from sklearn.metrics import mean_squared_error as rmse\n",
    "import warnings\n",
    "import catboost\n",
    "from catboost import Pool\n",
    "from catboost import CatBoostRegressor\n",
    "warnings.filterwarnings(\"ignore\")"
   ]
  },
  {
   "cell_type": "code",
   "execution_count": 5,
   "metadata": {},
   "outputs": [],
   "source": [
    "train = pd.read_csv('train.csv', index_col = \"id\")\n",
    "test = pd.read_csv('test.csv', index_col = \"id\")\n",
    "submission = pd.read_csv('sample_submission.csv', index_col = \"id\")"
   ]
  },
  {
   "cell_type": "code",
   "execution_count": 6,
   "metadata": {},
   "outputs": [],
   "source": [
    "train.drop('major', inplace = True, axis = 1)\n",
    "test.drop('major', inplace = True, axis = 1)\n",
    "train.dropna(inplace=True)"
   ]
  },
  {
   "cell_type": "code",
   "execution_count": 7,
   "metadata": {},
   "outputs": [],
   "source": [
    "train['race_arab'] = pd.to_numeric(train['race_arab'], errors='coerce').fillna(0).astype('int')\n",
    "train['race_asian'] = pd.to_numeric(train['race_asian'], errors='coerce').fillna(0).astype('int')\n",
    "train['race_black'] = pd.to_numeric(train['race_black'], errors='coerce').fillna(0).astype('int')\n",
    "train['race_white'] = pd.to_numeric(train['race_white'], errors='coerce').fillna(0).astype('int')\n",
    "\n",
    "test['race_arab'] = pd.to_numeric(test['race_arab'], errors='coerce').fillna(0).astype('int')\n",
    "test['race_asian'] = pd.to_numeric(test['race_asian'], errors='coerce').fillna(0).astype('int')\n",
    "test['race_black'] = pd.to_numeric(test['race_black'], errors='coerce').fillna(0).astype('int')\n",
    "test['race_white'] = pd.to_numeric(test['race_white'], errors='coerce').fillna(0).astype('int')"
   ]
  },
  {
   "cell_type": "code",
   "execution_count": 8,
   "metadata": {},
   "outputs": [],
   "source": [
    "train[\"age\"] = train[\"age\"].where(train[\"age\"] <= 100)\n",
    "train[\"age\"].fillna(train[\"age\"].mean(), inplace = True)\n",
    "train[\"age\"] = train[\"age\"].astype('int')\n",
    "\n",
    "test[\"age\"] = test[\"age\"].where(test[\"age\"] <= 100)\n",
    "test[\"age\"].fillna(test[\"age\"].mean(), inplace = True)\n",
    "test[\"age\"] = test[\"age\"].astype('int')"
   ]
  },
  {
   "cell_type": "code",
   "execution_count": 9,
   "metadata": {},
   "outputs": [],
   "source": [
    "train[\"familysize\"] = train[\"familysize\"].where(train[\"familysize\"] <= 10)\n",
    "train[\"familysize\"].fillna(train[\"familysize\"].mean(), inplace = True)\n",
    "train[\"familysize\"] = train[\"familysize\"].astype('int')\n",
    "\n",
    "test[\"familysize\"] = test[\"familysize\"].where(test[\"familysize\"] <= 10)\n",
    "test[\"familysize\"].fillna(test[\"familysize\"].mean(), inplace = True)\n",
    "test[\"familysize\"] = test[\"familysize\"].astype('int')"
   ]
  },
  {
   "cell_type": "code",
   "execution_count": 10,
   "metadata": {},
   "outputs": [],
   "source": [
    "test[\"country\"].fillna('US', inplace=True)"
   ]
  },
  {
   "cell_type": "code",
   "execution_count": 11,
   "metadata": {},
   "outputs": [],
   "source": [
    "countries = []\n",
    "for country in train[\"country\"].unique():\n",
    "    countries.append(country)\n",
    "for country in test[\"country\"].unique():\n",
    "    countries.append(country)"
   ]
  },
  {
   "cell_type": "code",
   "execution_count": 12,
   "metadata": {},
   "outputs": [],
   "source": [
    "le = LabelEncoder()\n",
    "le.fit(countries)\n",
    "train[\"country\"] = le.transform(train[\"country\"])\n",
    "test[\"country\"] = le.transform(test[\"country\"])"
   ]
  },
  {
   "cell_type": "code",
   "execution_count": 13,
   "metadata": {},
   "outputs": [],
   "source": [
    "train2 = train.drop(['country', 'introelapse', 'testelapse', 'testelapse', 'screenw', 'screenh'], axis=1)\n",
    "test2 = test.drop(['country', 'introelapse', 'testelapse', 'testelapse', 'screenw', 'screenh'], axis=1)"
   ]
  },
  {
   "cell_type": "code",
   "execution_count": 14,
   "metadata": {},
   "outputs": [],
   "source": [
    "target = train['nerdy']\n",
    "X = train.drop([\"nerdy\"], axis = 1)\n",
    "X_train, X_test, y_train, y_test = train_test_split(X, target, test_size=0.2, shuffle=True, random_state=42, stratify=target)"
   ]
  },
  {
   "cell_type": "code",
   "execution_count": 15,
   "metadata": {},
   "outputs": [],
   "source": [
    "target2 = train2['nerdy']\n",
    "X2 = train2.drop([\"nerdy\"], axis = 1)\n",
    "X_train2, X_test2, y_train2, y_test2 = train_test_split(X2, target2, test_size=0.2, shuffle=True, random_state=42, stratify=target2)"
   ]
  },
  {
   "cell_type": "code",
   "execution_count": 16,
   "metadata": {},
   "outputs": [],
   "source": [
    "def train_model_df(model, X_train, X_test, y_train, y_test):\n",
    "    model.fit(X_train, y_train)\n",
    "    pred_train = model.predict(X_train)\n",
    "    print(\"RMSE for train set is: \", np.sqrt(rmse(y_train, pred_train)))\n",
    "    pred_test = model.predict(X_test)\n",
    "    print(\"RMSE for test set is: \", np.sqrt(rmse(y_test, pred_test)))"
   ]
  },
  {
   "cell_type": "code",
   "execution_count": 17,
   "metadata": {},
   "outputs": [],
   "source": [
    "def train_model_df2(model, X_train2, X_test2, y_train2, y_test2):\n",
    "    model.fit(X_train2, y_train2)\n",
    "    pred_train = model.predict(X_train2)\n",
    "    print(\"RMSE for train set 2 is: \", np.sqrt(rmse(y_train2, pred_train)))\n",
    "    pred_test = model.predict(X_test2)\n",
    "    print(\"RMSE for test set 2 is: \", np.sqrt(rmse(y_test2, pred_test)))"
   ]
  },
  {
   "cell_type": "code",
   "execution_count": 18,
   "metadata": {},
   "outputs": [
    {
     "name": "stdout",
     "output_type": "stream",
     "text": [
      "RMSE for train set is:  1.292744396301155\n",
      "RMSE for test set is:  1.3052992979330809\n",
      "RMSE for train set 2 is:  1.2931946108894952\n",
      "RMSE for test set 2 is:  1.3040938956894839\n"
     ]
    }
   ],
   "source": [
    "model1=LinearRegression(fit_intercept=True)\n",
    "train_model_df(model1, X_train, X_test, y_train, y_test)\n",
    "train_model_df2(model1, X_train2, X_test2, y_train2, y_test2)"
   ]
  },
  {
   "cell_type": "code",
   "execution_count": 19,
   "metadata": {},
   "outputs": [],
   "source": [
    "def scale(scaler, X_train, X_test):\n",
    "    X_train_scaled = scaler.fit_transform(X_train)\n",
    "    X_test_scaled = scaler.transform(X_test)\n",
    "    return([X_train_scaled, X_test_scaled])"
   ]
  },
  {
   "cell_type": "code",
   "execution_count": 20,
   "metadata": {},
   "outputs": [],
   "source": [
    "scaler = MinMaxScaler()\n",
    "X_train_scaled, X_test_scaled = scale(scaler, X_train, X_test)\n",
    "X_train_scaled2, X_test_scaled2 = scale(scaler, X_train2, X_test2)"
   ]
  },
  {
   "cell_type": "code",
   "execution_count": 21,
   "metadata": {},
   "outputs": [
    {
     "name": "stdout",
     "output_type": "stream",
     "text": [
      "RMSE for train set is:  1.292744396301155\n",
      "RMSE for test set is:  1.3052992979330826\n",
      "RMSE for train set 2 is:  1.2931946108894954\n",
      "RMSE for test set 2 is:  1.3040938956900934\n"
     ]
    }
   ],
   "source": [
    "train_model_df(model1, X_train_scaled, X_test_scaled, y_train, y_test)\n",
    "train_model_df2(model1, X_train_scaled2, X_test_scaled2, y_train2, y_test2)"
   ]
  },
  {
   "cell_type": "code",
   "execution_count": 22,
   "metadata": {},
   "outputs": [],
   "source": [
    "scaler = StandardScaler()\n",
    "X_train_scaled, X_test_scaled = scale(scaler, X_train, X_test)\n",
    "X_train_scaled2, X_test_scaled2 = scale(scaler, X_train2, X_test2)"
   ]
  },
  {
   "cell_type": "code",
   "execution_count": 23,
   "metadata": {},
   "outputs": [
    {
     "name": "stdout",
     "output_type": "stream",
     "text": [
      "RMSE for train set is:  1.292744396301155\n",
      "RMSE for test set is:  1.3052992979330826\n",
      "RMSE for train set 2 is:  1.2931946108894954\n",
      "RMSE for test set 2 is:  1.3040938956900934\n"
     ]
    }
   ],
   "source": [
    "train_model_df(model1, X_train_scaled, X_test_scaled, y_train, y_test)\n",
    "train_model_df2(model1, X_train_scaled2, X_test_scaled2, y_train2, y_test2)"
   ]
  },
  {
   "cell_type": "code",
   "execution_count": 27,
   "metadata": {},
   "outputs": [
    {
     "name": "stdout",
     "output_type": "stream",
     "text": [
      "RMSE for train set is:  1.6414736818647964\n",
      "RMSE for test set is:  1.6451516242189517\n",
      "RMSE for train set 2 is:  1.6422730889714967\n",
      "RMSE for test set 2 is:  1.6449344326588435\n"
     ]
    }
   ],
   "source": [
    "model2 = svm.SVR()\n",
    "train_model_df(model2, X_train, X_test, y_train, y_test)\n",
    "train_model_df2(model2, X_train2, X_test2, y_train2, y_test2)"
   ]
  },
  {
   "cell_type": "code",
   "execution_count": 28,
   "metadata": {},
   "outputs": [
    {
     "name": "stdout",
     "output_type": "stream",
     "text": [
      "RMSE for train set is:  1.072046920009176\n",
      "RMSE for test set is:  1.304353505902448\n",
      "RMSE for train set 2 is:  1.0713954782452753\n",
      "RMSE for test set 2 is:  1.2983993487374565\n"
     ]
    }
   ],
   "source": [
    "train_model_df(model2, X_train_scaled, X_test_scaled, y_train, y_test)\n",
    "train_model_df2(model2, X_train_scaled2, X_test_scaled2, y_train2, y_test2)"
   ]
  },
  {
   "cell_type": "code",
   "execution_count": 29,
   "metadata": {},
   "outputs": [
    {
     "name": "stdout",
     "output_type": "stream",
     "text": [
      "RMSE for train set is:  1.32740508959367\n",
      "RMSE for test set is:  1.3427120848177432\n",
      "RMSE for train set 2 is:  1.3289969122135525\n",
      "RMSE for test set 2 is:  1.3418827241172366\n"
     ]
    }
   ],
   "source": [
    "model3 = svm.LinearSVR(random_state=42)\n",
    "train_model_df(model3, X_train_scaled, X_test_scaled, y_train, y_test)\n",
    "train_model_df2(model3, X_train_scaled2, X_test_scaled2, y_train2, y_test2)"
   ]
  },
  {
   "cell_type": "code",
   "execution_count": 24,
   "metadata": {},
   "outputs": [
    {
     "data": {
      "text/plain": [
       "XGBRegressor(base_score=0.5, booster='gbtree', colsample_bylevel=1,\n",
       "             colsample_bynode=1, colsample_bytree=1, enable_categorical=False,\n",
       "             gamma=0, gpu_id=-1, importance_type=None,\n",
       "             interaction_constraints='', learning_rate=0.300000012,\n",
       "             max_delta_step=0, max_depth=6, min_child_weight=1, missing=nan,\n",
       "             monotone_constraints='()', n_estimators=100, n_jobs=12,\n",
       "             num_parallel_tree=1, predictor='auto', random_state=42,\n",
       "             reg_alpha=0, reg_lambda=1, scale_pos_weight=1, subsample=1,\n",
       "             tree_method='exact', validate_parameters=1, verbosity=None)"
      ]
     },
     "execution_count": 24,
     "metadata": {},
     "output_type": "execute_result"
    }
   ],
   "source": [
    "model4 = XGBRegressor(\n",
    "    random_state=42)\n",
    "model4.fit(X_train, y_train, eval_set=[(X_train, y_train), (X_test, y_test)], eval_metric='rmse', early_stopping_rounds=100, verbose=0)"
   ]
  },
  {
   "cell_type": "code",
   "execution_count": 25,
   "metadata": {},
   "outputs": [
    {
     "name": "stdout",
     "output_type": "stream",
     "text": [
      "1.0525628298507266\n",
      "1.2779388176841655\n"
     ]
    }
   ],
   "source": [
    "pred1 = model4.predict(X_train)\n",
    "print (np.sqrt(rmse(y_train, pred1)))\n",
    "pred2 = model4.predict(X_test)\n",
    "print (np.sqrt(rmse(y_test, pred2)))"
   ]
  },
  {
   "cell_type": "code",
   "execution_count": 26,
   "metadata": {},
   "outputs": [
    {
     "data": {
      "text/plain": [
       "XGBRegressor(base_score=0.5, booster='gbtree', colsample_bylevel=1,\n",
       "             colsample_bynode=1, colsample_bytree=1, enable_categorical=False,\n",
       "             gamma=0, gpu_id=-1, importance_type=None,\n",
       "             interaction_constraints='', learning_rate=0.300000012,\n",
       "             max_delta_step=0, max_depth=6, min_child_weight=1, missing=nan,\n",
       "             monotone_constraints='()', n_estimators=100, n_jobs=12,\n",
       "             num_parallel_tree=1, predictor='auto', random_state=42,\n",
       "             reg_alpha=0, reg_lambda=1, scale_pos_weight=1, subsample=1,\n",
       "             tree_method='exact', validate_parameters=1, verbosity=None)"
      ]
     },
     "execution_count": 26,
     "metadata": {},
     "output_type": "execute_result"
    }
   ],
   "source": [
    "model4.fit(X_train2, y_train2, eval_set=[(X_train2, y_train2), (X_test2, y_test2)], eval_metric='rmse', early_stopping_rounds=100, verbose=0)"
   ]
  },
  {
   "cell_type": "code",
   "execution_count": 27,
   "metadata": {},
   "outputs": [
    {
     "name": "stdout",
     "output_type": "stream",
     "text": [
      "1.0718738643837813\n",
      "1.2822305270970225\n"
     ]
    }
   ],
   "source": [
    "pred1 = model4.predict(X_train2)\n",
    "print (np.sqrt(rmse(y_train2, pred1)))\n",
    "pred2 = model4.predict(X_test2)\n",
    "print (np.sqrt(rmse(y_test2, pred2)))"
   ]
  },
  {
   "cell_type": "code",
   "execution_count": 28,
   "metadata": {},
   "outputs": [
    {
     "data": {
      "text/plain": [
       "XGBRegressor(base_score=0.5, booster='gbtree', colsample_bylevel=1,\n",
       "             colsample_bynode=1, colsample_bytree=1, enable_categorical=False,\n",
       "             gamma=0, gpu_id=-1, importance_type=None,\n",
       "             interaction_constraints='', learning_rate=0.300000012,\n",
       "             max_delta_step=0, max_depth=6, min_child_weight=1, missing=nan,\n",
       "             monotone_constraints='()', n_estimators=100, n_jobs=12,\n",
       "             num_parallel_tree=1, predictor='auto', random_state=42,\n",
       "             reg_alpha=0, reg_lambda=1, scale_pos_weight=1, subsample=1,\n",
       "             tree_method='exact', validate_parameters=1, verbosity=None)"
      ]
     },
     "execution_count": 28,
     "metadata": {},
     "output_type": "execute_result"
    }
   ],
   "source": [
    "model4.fit(X_train_scaled, y_train, eval_set=[(X_train_scaled, y_train), (X_test_scaled, y_test)], eval_metric='rmse', early_stopping_rounds=100, verbose=0)"
   ]
  },
  {
   "cell_type": "code",
   "execution_count": 29,
   "metadata": {
    "scrolled": true
   },
   "outputs": [
    {
     "name": "stdout",
     "output_type": "stream",
     "text": [
      "1.0525628298507266\n",
      "1.277936594786975\n"
     ]
    }
   ],
   "source": [
    "pred1 = model4.predict(X_train_scaled)\n",
    "print (np.sqrt(rmse(y_train, pred1)))\n",
    "pred2 = model4.predict(X_test_scaled)\n",
    "print (np.sqrt(rmse(y_test, pred2)))"
   ]
  },
  {
   "cell_type": "code",
   "execution_count": 30,
   "metadata": {},
   "outputs": [],
   "source": [
    "model5 = XGBRegressor(random_state=42)"
   ]
  },
  {
   "cell_type": "code",
   "execution_count": 31,
   "metadata": {},
   "outputs": [
    {
     "data": {
      "text/plain": [
       "XGBRegressor(base_score=0.5, booster='gbtree', colsample_bylevel=1,\n",
       "             colsample_bynode=1, colsample_bytree=1, enable_categorical=False,\n",
       "             gamma=0, gpu_id=-1, importance_type=None,\n",
       "             interaction_constraints='', learning_rate=0.300000012,\n",
       "             max_delta_step=0, max_depth=6, min_child_weight=1, missing=nan,\n",
       "             monotone_constraints='()', n_estimators=100, n_jobs=12,\n",
       "             num_parallel_tree=1, predictor='auto', random_state=42,\n",
       "             reg_alpha=0, reg_lambda=1, scale_pos_weight=1, subsample=1,\n",
       "             tree_method='exact', validate_parameters=1, verbosity=None)"
      ]
     },
     "execution_count": 31,
     "metadata": {},
     "output_type": "execute_result"
    }
   ],
   "source": [
    "model5.fit(X_train_scaled2, y_train2, eval_set=[(X_train_scaled2, y_train2), (X_test_scaled2, y_test2)], eval_metric='rmse', early_stopping_rounds=100, verbose=0)"
   ]
  },
  {
   "cell_type": "code",
   "execution_count": 32,
   "metadata": {
    "scrolled": true
   },
   "outputs": [
    {
     "name": "stdout",
     "output_type": "stream",
     "text": [
      "1.0718738643837813\n",
      "1.282015696939041\n"
     ]
    }
   ],
   "source": [
    "pred1 = model5.predict(X_train_scaled2)\n",
    "print (np.sqrt(rmse(y_train2, pred1)))\n",
    "pred2 = model5.predict(X_test_scaled2)\n",
    "print (np.sqrt(rmse(y_test2, pred2)))"
   ]
  },
  {
   "cell_type": "code",
   "execution_count": 3,
   "metadata": {},
   "outputs": [],
   "source": [
    "model6 = CatBoostRegressor(random_state=42)"
   ]
  },
  {
   "cell_type": "code",
   "execution_count": 43,
   "metadata": {},
   "outputs": [
    {
     "data": {
      "text/plain": [
       "<catboost.core.CatBoostRegressor at 0x7fab1b08b4c0>"
      ]
     },
     "execution_count": 43,
     "metadata": {},
     "output_type": "execute_result"
    }
   ],
   "source": [
    "model6.fit(X_train_scaled, y_train, eval_set=[(X_train_scaled, y_train), (X_test_scaled, y_test)], early_stopping_rounds=100, verbose=0)"
   ]
  },
  {
   "cell_type": "code",
   "execution_count": 44,
   "metadata": {},
   "outputs": [
    {
     "name": "stdout",
     "output_type": "stream",
     "text": [
      "1.0532214984755233\n",
      "1.2424043842611683\n"
     ]
    }
   ],
   "source": [
    "pred1 = model6.predict(X_train_scaled)\n",
    "print (np.sqrt(rmse(y_train, pred1)))\n",
    "pred2 = model6.predict(X_test_scaled)\n",
    "print (np.sqrt(rmse(y_test, pred2)))"
   ]
  },
  {
   "cell_type": "code",
   "execution_count": 38,
   "metadata": {},
   "outputs": [
    {
     "data": {
      "text/plain": [
       "KNeighborsRegressor()"
      ]
     },
     "execution_count": 38,
     "metadata": {},
     "output_type": "execute_result"
    }
   ],
   "source": [
    "model7 = KNeighborsRegressor()\n",
    "model7.fit(X_train_scaled, y_train)"
   ]
  },
  {
   "cell_type": "code",
   "execution_count": 39,
   "metadata": {},
   "outputs": [
    {
     "name": "stdout",
     "output_type": "stream",
     "text": [
      "1.1288047946281115\n",
      "1.389992073711872\n"
     ]
    }
   ],
   "source": [
    "pred1 = model7.predict(X_train_scaled)\n",
    "print (np.sqrt(rmse(y_train, pred1)))\n",
    "pred2 = model7.predict(X_test_scaled)\n",
    "print (np.sqrt(rmse(y_test, pred2)))"
   ]
  },
  {
   "cell_type": "code",
   "execution_count": 45,
   "metadata": {},
   "outputs": [],
   "source": [
    "preds1 = model4.predict(test)\n",
    "preds2 = model6.predict(test)"
   ]
  },
  {
   "cell_type": "code",
   "execution_count": 40,
   "metadata": {},
   "outputs": [
    {
     "data": {
      "text/plain": [
       "array([-4.33583191, -4.45907589, -3.5723658 , ..., -4.41737832,\n",
       "       -3.54197069, -4.19081398])"
      ]
     },
     "execution_count": 40,
     "metadata": {},
     "output_type": "execute_result"
    }
   ],
   "source": [
    "preds1-preds2"
   ]
  },
  {
   "cell_type": "code",
   "execution_count": 46,
   "metadata": {},
   "outputs": [],
   "source": [
    "submission[\"nerdy\"] = preds2\n",
    "submission.to_csv(\"model6.csv\")"
   ]
  },
  {
   "cell_type": "code",
   "execution_count": 3,
   "metadata": {},
   "outputs": [
    {
     "ename": "NameError",
     "evalue": "name 'X' is not defined",
     "output_type": "error",
     "traceback": [
      "\u001b[1;31m---------------------------------------------------------------------------\u001b[0m",
      "\u001b[1;31mNameError\u001b[0m                                 Traceback (most recent call last)",
      "\u001b[1;32m<ipython-input-3-0873f0574ccd>\u001b[0m in \u001b[0;36m<module>\u001b[1;34m\u001b[0m\n\u001b[1;32m----> 1\u001b[1;33m \u001b[0mmodel4\u001b[0m\u001b[1;33m.\u001b[0m\u001b[0mget_booster\u001b[0m\u001b[1;33m(\u001b[0m\u001b[1;33m)\u001b[0m\u001b[1;33m.\u001b[0m\u001b[0mfeature_names\u001b[0m \u001b[1;33m=\u001b[0m \u001b[0mX\u001b[0m\u001b[1;33m.\u001b[0m\u001b[0mcolumns\u001b[0m\u001b[1;33m.\u001b[0m\u001b[0mto_list\u001b[0m\u001b[1;33m(\u001b[0m\u001b[1;33m)\u001b[0m\u001b[1;33m\u001b[0m\u001b[1;33m\u001b[0m\u001b[0m\n\u001b[0m\u001b[0;32m      2\u001b[0m \u001b[0mplot_importance\u001b[0m\u001b[1;33m(\u001b[0m\u001b[0mmodel4\u001b[0m\u001b[1;33m.\u001b[0m\u001b[0mget_booster\u001b[0m\u001b[1;33m(\u001b[0m\u001b[1;33m)\u001b[0m\u001b[1;33m)\u001b[0m\u001b[1;33m\u001b[0m\u001b[1;33m\u001b[0m\u001b[0m\n",
      "\u001b[1;31mNameError\u001b[0m: name 'X' is not defined"
     ]
    }
   ],
   "source": [
    "model4.get_booster().feature_names = X.columns.to_list()\n",
    "plot_importance(model4.get_booster())"
   ]
  },
  {
   "cell_type": "code",
   "execution_count": 106,
   "metadata": {
    "scrolled": true
   },
   "outputs": [
    {
     "data": {
      "text/plain": [
       "<AxesSubplot:title={'center':'Feature importance'}, xlabel='F score', ylabel='Features'>"
      ]
     },
     "execution_count": 106,
     "metadata": {},
     "output_type": "execute_result"
    },
    {
     "data": {
      "image/png": "[encoded data removed]",
      "text/plain": [
       "<Figure size 2160x864 with 1 Axes>"
      ]
     },
     "metadata": {
      "needs_background": "light"
     },
     "output_type": "display_data"
    }
   ],
   "source": [
    "model5.get_booster().feature_names = X2.columns.to_list()\n",
    "plot_importance(model5.get_booster())"
   ]
  },
  {
   "cell_type": "code",
   "execution_count": 53,
   "metadata": {},
   "outputs": [
    {
     "name": "stdout",
     "output_type": "stream",
     "text": [
      "column:  Q1  importance:  4.262693246607727\n",
      "column:  Q2  importance:  3.9738468557749016\n",
      "column:  Q3  importance:  1.3319741283197828\n",
      "column:  Q4  importance:  1.859007761105049\n",
      "column:  Q5  importance:  1.9919092937896976\n",
      "column:  Q6  importance:  7.257871609501457\n",
      "column:  Q7  importance:  1.075818916788516\n",
      "column:  Q8  importance:  1.3714187426061535\n",
      "column:  Q9  importance:  0.5443467460526116\n",
      "column:  Q10  importance:  0.44124942088670444\n",
      "column:  Q11  importance:  2.80112481973552\n",
      "column:  Q12  importance:  1.6984583147775443\n",
      "column:  Q13  importance:  1.0714999445522264\n",
      "column:  Q14  importance:  1.7928494319679547\n",
      "column:  Q15  importance:  5.0393566633978875\n",
      "column:  Q16  importance:  0.8828514743099096\n",
      "column:  Q17  importance:  1.2582029693110095\n",
      "column:  Q18  importance:  0.7861834630197249\n",
      "column:  Q19  importance:  1.3514114348994968\n",
      "column:  Q20  importance:  1.641949778509385\n",
      "column:  Q21  importance:  0.38967984622750623\n",
      "column:  Q22  importance:  0.523349676115248\n",
      "column:  Q23  importance:  1.4600435947278965\n",
      "column:  Q24  importance:  1.1525744796037891\n",
      "column:  Q25  importance:  1.005572315899674\n",
      "column:  Q26  importance:  1.5301459739855068\n",
      "column:  country  importance:  1.1465959789653741\n",
      "column:  introelapse  importance:  1.4505475924407691\n",
      "column:  testelapse  importance:  2.2637082797412456\n",
      "column:  surveyelapse  importance:  1.3081945754885642\n",
      "column:  TIPI1  importance:  1.0410705651413972\n",
      "column:  TIPI2  importance:  0.36120515774088774\n",
      "column:  TIPI3  importance:  1.1803127957554347\n",
      "column:  TIPI4  importance:  1.2876015499680682\n",
      "column:  TIPI5  importance:  0.8242975778902591\n",
      "column:  TIPI6  importance:  1.1350894149609725\n",
      "column:  TIPI7  importance:  3.903479059402371\n",
      "column:  TIPI8  importance:  1.9165149428283113\n",
      "column:  TIPI9  importance:  1.0162513696780544\n",
      "column:  TIPI10  importance:  0.6065972535481077\n",
      "column:  VCL1  importance:  0.02073837704606108\n",
      "column:  VCL2  importance:  0.0\n",
      "column:  VCL3  importance:  0.3069878310281752\n",
      "column:  VCL4  importance:  0.17722648858196333\n",
      "column:  VCL5  importance:  0.1374657023824271\n",
      "column:  VCL6  importance:  0.2075634442696563\n",
      "column:  VCL7  importance:  0.3547890566649713\n",
      "column:  VCL8  importance:  0.4430879982722078\n",
      "column:  VCL9  importance:  0.09304965859576372\n",
      "column:  VCL10  importance:  0.0\n",
      "column:  VCL11  importance:  0.39008948636072016\n",
      "column:  VCL12  importance:  0.027163846225267255\n",
      "column:  VCL13  importance:  0.4372789848622341\n",
      "column:  VCL14  importance:  0.0843096971735397\n",
      "column:  VCL15  importance:  0.07001781522674125\n",
      "column:  VCL16  importance:  0.08830944946850217\n",
      "column:  education  importance:  2.498388993089395\n",
      "column:  urban  importance:  0.7243201085828598\n",
      "column:  gender  importance:  0.4304496922489002\n",
      "column:  engnat  importance:  1.0538261491350545\n",
      "column:  age  importance:  2.9543634905386438\n",
      "column:  screenw  importance:  0.9067987179715464\n",
      "column:  screenh  importance:  0.7293260671259727\n",
      "column:  hand  importance:  0.21317486176655254\n",
      "column:  religion  importance:  1.1769479387065112\n",
      "column:  orientation  importance:  0.31567980580561084\n",
      "column:  voted  importance:  0.3762904215348152\n",
      "column:  married  importance:  0.26306164379442365\n",
      "column:  familysize  importance:  0.5505733250088148\n",
      "column:  race_arab  importance:  0.13278607029711584\n",
      "column:  race_asian  importance:  0.771492834591088\n",
      "column:  race_black  importance:  0.3900151381411386\n",
      "column:  race_white  importance:  7.6179824427713045\n",
      "column:  race_hispanic  importance:  5.118598662105063\n",
      "column:  race_nativeam  importance:  2.309959855943686\n",
      "column:  race_nativeau  importance:  0.6764331378969278\n",
      "column:  race_other  importance:  0.014595790763656821\n"
     ]
    }
   ],
   "source": [
    "importances = model6.get_feature_importance()\n",
    "columns = X.columns.to_list()\n",
    "for i in range(len(columns)):\n",
    "    print (\"column: \", columns[i], \" importance: \", importances[i])"
   ]
  },
  {
   "cell_type": "code",
   "execution_count": null,
   "metadata": {},
   "outputs": [],
   "source": []
  }
 ],
 "metadata": {
  "kernelspec": {
   "display_name": "Python 3",
   "language": "python",
   "name": "python3"
  },
  "language_info": {
   "codemirror_mode": {
    "name": "ipython",
    "version": 3
   },
   "file_extension": ".py",
   "mimetype": "text/x-python",
   "name": "python",
   "nbconvert_exporter": "python",
   "pygments_lexer": "ipython3",
   "version": "3.8.5"
  }
 },
 "nbformat": 4,
 "nbformat_minor": 4
}
