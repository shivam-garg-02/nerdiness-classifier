{
 "cells": [
  {
   "cell_type": "code",
   "execution_count": 51,
   "metadata": {},
   "outputs": [],
   "source": [
    "import numpy as np\n",
    "import pandas as pd\n",
    "import matplotlib.pyplot as plt\n",
    "import sklearn\n",
    "from sklearn.model_selection import train_test_split\n",
    "from sklearn.metrics import roc_auc_score\n",
    "from sklearn.linear_model import LogisticRegression\n",
    "from sklearn.linear_model import LinearRegression\n",
    "from sklearn.preprocessing import StandardScaler\n",
    "from sklearn.model_selection import cross_val_score\n",
    "from sklearn.model_selection import cross_validate\n",
    "from sklearn.model_selection import RepeatedKFold\n",
    "from sklearn.model_selection import GridSearchCV\n",
    "from sklearn.model_selection import StratifiedKFold\n",
    "from sklearn.metrics import make_scorer\n",
    "from sklearn import svm\n",
    "from sklearn import tree\n",
    "from catboost import CatBoostRegressor\n",
    "import seaborn as sns\n",
    "from sklearn.naive_bayes import GaussianNB \n",
    "from sklearn.ensemble import RandomForestClassifier\n",
    "from sklearn.pipeline import Pipeline\n",
    "from xgboost import XGBRegressor\n",
    "from xgboost import XGBClassifier\n",
    "from sklearn.preprocessing import LabelEncoder\n",
    "from sklearn.preprocessing import MinMaxScaler\n",
    "import pickle\n",
    "from keras.preprocessing.text import Tokenizer\n",
    "from keras.models import Sequential, Model\n",
    "from keras.layers import Activation, Dense, Dropout\n",
    "from sklearn.preprocessing import LabelBinarizer\n",
    "import sklearn.datasets as skds\n",
    "from pathlib import Path\n",
    "import itertools\n",
    "from sklearn.metrics import confusion_matrix\n",
    "from sklearn.metrics import mean_squared_error as rmse\n",
    "import warnings\n",
    "warnings.filterwarnings(\"ignore\")\n",
    "%matplotlib inline\n",
    "from joblib import dump, load\n",
    "from xgboost import plot_importance\n",
    "from lightgbm import LGBMRegressor"
   ]
  },
  {
   "cell_type": "code",
   "execution_count": 49,
   "metadata": {},
   "outputs": [],
   "source": [
    "train = pd.read_csv('pps_train.csv', index_col = \"id\")\n",
    "test = pd.read_csv('pps_test.csv', index_col = \"id\")\n",
    "submission = pd.read_csv('sample_submission.csv', index_col = \"id\")"
   ]
  },
  {
   "cell_type": "code",
   "execution_count": 60,
   "metadata": {},
   "outputs": [
    {
     "data": {
      "text/plain": [
       "'nerdy'"
      ]
     },
     "execution_count": 60,
     "metadata": {},
     "output_type": "execute_result"
    }
   ],
   "source": [
    "cols= train.columns\n",
    "cols = list(cols)\n",
    "cols.pop()"
   ]
  },
  {
   "cell_type": "code",
   "execution_count": 77,
   "metadata": {},
   "outputs": [],
   "source": [
    "scaler = StandardScaler()\n",
    "train_scaled = scaler.fit_transform(train[cols])\n",
    "test_scaled = scaler.transform(test)"
   ]
  },
  {
   "cell_type": "code",
   "execution_count": 74,
   "metadata": {},
   "outputs": [],
   "source": [
    "def Stacker(model, model_name, train_data, test_data, fold):\n",
    "    test_preds = np.zeros(test_data.shape[0])\n",
    "    train_preds = np.zeros(train_data.shape[0])\n",
    "    \n",
    "    kf = StratifiedKFold(n_splits=fold,random_state=48,shuffle=True)\n",
    "    rmse_list=[]\n",
    "    n=0\n",
    "    \n",
    "    for train_index, test_index in kf.split(train[cols],train['nerdy']):\n",
    "        \n",
    "        X_train, X_valid = train[cols].iloc[train_index], train[cols].iloc[test_index]\n",
    "        y_train, y_valid = train['nerdy'].iloc[train_index], train['nerdy'].iloc[test_index]\n",
    "        \n",
    "#         if model_name == 'catb':\n",
    "#             model.fit(X_train, y_train, eval_set=[(X_valid, y_valid)], silent=True)\n",
    "#         else:\n",
    "#             model.fit(X_train, y_train, eval_set=[(X_valid,y_valid)], early_stopping_rounds=100, eval_metric=\"auc\", verbose=False)\n",
    "        model.fit(X_train, y_train)\n",
    "    \n",
    "        test_preds += model.predict(test_data[cols])/kf.n_splits\n",
    "        train_preds += model.predict(train_data[cols])/kf.n_splits\n",
    "        \n",
    "        rmse_list.append(np.sqrt(rmse(y_valid, model.predict(X_valid))))\n",
    "        \n",
    "        print(f\"fold: {n+1}, rmse: {rmse_list[n]}\")\n",
    "        n+=1  \n",
    "    return train_preds, test_preds"
   ]
  },
  {
   "cell_type": "code",
   "execution_count": 75,
   "metadata": {},
   "outputs": [
    {
     "name": "stdout",
     "output_type": "stream",
     "text": [
      "fold: 1, rmse: 1.3018837748632526\n",
      "fold: 2, rmse: 1.2841050921238473\n",
      "fold: 3, rmse: 1.3072366097768167\n",
      "fold: 4, rmse: 1.3084202778998173\n",
      "fold: 5, rmse: 1.3065138590049437\n"
     ]
    },
    {
     "data": {
      "text/plain": [
       "(array([6.15227345, 4.42164907, 6.12780567, ..., 4.85016154, 5.31437448,\n",
       "        6.09039454]),\n",
       " array([5.76254333, 5.59257076, 4.57904162, ..., 5.35403039, 5.2579529 ,\n",
       "        5.92994686]))"
      ]
     },
     "execution_count": 75,
     "metadata": {},
     "output_type": "execute_result"
    }
   ],
   "source": [
    "lr = LinearRegression()\n",
    "Stacker(lr, 'lr', train, test, 5)"
   ]
  },
  {
   "cell_type": "code",
   "execution_count": 76,
   "metadata": {},
   "outputs": [
    {
     "name": "stdout",
     "output_type": "stream",
     "text": [
      "fold: 1, rmse: 1.639012029201104\n",
      "fold: 2, rmse: 1.6427006704106948\n",
      "fold: 3, rmse: 1.6450438662580327\n",
      "fold: 4, rmse: 1.6444200298424578\n",
      "fold: 5, rmse: 1.6450394530625896\n"
     ]
    },
    {
     "data": {
      "text/plain": [
       "(array([5.89996767, 5.89923575, 5.89967798, ..., 5.8995739 , 5.90020548,\n",
       "        5.89958186]),\n",
       " array([5.89972045, 5.89956172, 5.89942896, ..., 5.8989783 , 5.89917817,\n",
       "        5.89975804]))"
      ]
     },
     "execution_count": 76,
     "metadata": {},
     "output_type": "execute_result"
    }
   ],
   "source": [
    "svmac = svm.SVR()\n",
    "Stacker(svmac, 'svr', train, test, 5)"
   ]
  },
  {
   "cell_type": "code",
   "execution_count": 79,
   "metadata": {},
   "outputs": [
    {
     "data": {
      "text/plain": [
       "(15131, 77)"
      ]
     },
     "execution_count": 79,
     "metadata": {},
     "output_type": "execute_result"
    }
   ],
   "source": []
  },
  {
   "cell_type": "code",
   "execution_count": null,
   "metadata": {},
   "outputs": [],
   "source": []
  }
 ],
 "metadata": {
  "kernelspec": {
   "display_name": "Python 3",
   "language": "python",
   "name": "python3"
  },
  "language_info": {
   "codemirror_mode": {
    "name": "ipython",
    "version": 3
   },
   "file_extension": ".py",
   "mimetype": "text/x-python",
   "name": "python",
   "nbconvert_exporter": "python",
   "pygments_lexer": "ipython3",
   "version": "3.8.5"
  }
 },
 "nbformat": 4,
 "nbformat_minor": 4
}
